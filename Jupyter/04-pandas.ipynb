{
 "cells": [
  {
   "attachments": {},
   "cell_type": "markdown",
   "metadata": {},
   "source": [
    "<h4><b>ANALISIS DE DATASET DE VIDEOJUEGOS POPULARES DE 1980 A 2023</b></h4>"
   ]
  },
  {
   "attachments": {},
   "cell_type": "markdown",
   "metadata": {},
   "source": [
    "<h6>IMPORTS</h6>"
   ]
  },
  {
   "cell_type": "code",
   "execution_count": 37,
   "metadata": {},
   "outputs": [],
   "source": [
    "import pandas as pd\n",
    "import numpy as np\n",
    "import matplotlib.pyplot as plt"
   ]
  },
  {
   "attachments": {},
   "cell_type": "markdown",
   "metadata": {},
   "source": [
    "<h4><b>INICIALIZANDO EL DATAFRAME</b></h4>"
   ]
  },
  {
   "cell_type": "code",
   "execution_count": 38,
   "metadata": {},
   "outputs": [
    {
     "data": {
      "text/html": [
       "<div>\n",
       "<style scoped>\n",
       "    .dataframe tbody tr th:only-of-type {\n",
       "        vertical-align: middle;\n",
       "    }\n",
       "\n",
       "    .dataframe tbody tr th {\n",
       "        vertical-align: top;\n",
       "    }\n",
       "\n",
       "    .dataframe thead th {\n",
       "        text-align: right;\n",
       "    }\n",
       "</style>\n",
       "<table border=\"1\" class=\"dataframe\">\n",
       "  <thead>\n",
       "    <tr style=\"text-align: right;\">\n",
       "      <th></th>\n",
       "      <th>Title</th>\n",
       "      <th>Release Date</th>\n",
       "      <th>Team</th>\n",
       "      <th>Rating</th>\n",
       "      <th>Times Listed</th>\n",
       "      <th>Number of Reviews</th>\n",
       "      <th>Genres</th>\n",
       "      <th>Summary</th>\n",
       "      <th>Reviews</th>\n",
       "      <th>Plays</th>\n",
       "      <th>Playing</th>\n",
       "      <th>Backlogs</th>\n",
       "      <th>Wishlist</th>\n",
       "    </tr>\n",
       "    <tr>\n",
       "      <th>Id</th>\n",
       "      <th></th>\n",
       "      <th></th>\n",
       "      <th></th>\n",
       "      <th></th>\n",
       "      <th></th>\n",
       "      <th></th>\n",
       "      <th></th>\n",
       "      <th></th>\n",
       "      <th></th>\n",
       "      <th></th>\n",
       "      <th></th>\n",
       "      <th></th>\n",
       "      <th></th>\n",
       "    </tr>\n",
       "  </thead>\n",
       "  <tbody>\n",
       "    <tr>\n",
       "      <th>0</th>\n",
       "      <td>Elden Ring</td>\n",
       "      <td>Feb 25, 2022</td>\n",
       "      <td>['Bandai Namco Entertainment', 'FromSoftware']</td>\n",
       "      <td>4.5</td>\n",
       "      <td>3.9K</td>\n",
       "      <td>3.9K</td>\n",
       "      <td>['Adventure', 'RPG']</td>\n",
       "      <td>Elden Ring is a fantasy, action and open world...</td>\n",
       "      <td>[\"The first playthrough of elden ring is one o...</td>\n",
       "      <td>17K</td>\n",
       "      <td>3.8K</td>\n",
       "      <td>4.6K</td>\n",
       "      <td>4.8K</td>\n",
       "    </tr>\n",
       "    <tr>\n",
       "      <th>1</th>\n",
       "      <td>Hades</td>\n",
       "      <td>Dec 10, 2019</td>\n",
       "      <td>['Supergiant Games']</td>\n",
       "      <td>4.3</td>\n",
       "      <td>2.9K</td>\n",
       "      <td>2.9K</td>\n",
       "      <td>['Adventure', 'Brawler', 'Indie', 'RPG']</td>\n",
       "      <td>A rogue-lite hack and slash dungeon crawler in...</td>\n",
       "      <td>['convinced this is a roguelike for people who...</td>\n",
       "      <td>21K</td>\n",
       "      <td>3.2K</td>\n",
       "      <td>6.3K</td>\n",
       "      <td>3.6K</td>\n",
       "    </tr>\n",
       "    <tr>\n",
       "      <th>2</th>\n",
       "      <td>The Legend of Zelda: Breath of the Wild</td>\n",
       "      <td>Mar 03, 2017</td>\n",
       "      <td>['Nintendo', 'Nintendo EPD Production Group No...</td>\n",
       "      <td>4.4</td>\n",
       "      <td>4.3K</td>\n",
       "      <td>4.3K</td>\n",
       "      <td>['Adventure', 'RPG']</td>\n",
       "      <td>The Legend of Zelda: Breath of the Wild is the...</td>\n",
       "      <td>['This game is the game (that is not CS:GO) th...</td>\n",
       "      <td>30K</td>\n",
       "      <td>2.5K</td>\n",
       "      <td>5K</td>\n",
       "      <td>2.6K</td>\n",
       "    </tr>\n",
       "    <tr>\n",
       "      <th>3</th>\n",
       "      <td>Undertale</td>\n",
       "      <td>Sep 15, 2015</td>\n",
       "      <td>['tobyfox', '8-4']</td>\n",
       "      <td>4.2</td>\n",
       "      <td>3.5K</td>\n",
       "      <td>3.5K</td>\n",
       "      <td>['Adventure', 'Indie', 'RPG', 'Turn Based Stra...</td>\n",
       "      <td>A small child falls into the Underground, wher...</td>\n",
       "      <td>['soundtrack is tied for #1 with nier automata...</td>\n",
       "      <td>28K</td>\n",
       "      <td>679</td>\n",
       "      <td>4.9K</td>\n",
       "      <td>1.8K</td>\n",
       "    </tr>\n",
       "    <tr>\n",
       "      <th>4</th>\n",
       "      <td>Hollow Knight</td>\n",
       "      <td>Feb 24, 2017</td>\n",
       "      <td>['Team Cherry']</td>\n",
       "      <td>4.4</td>\n",
       "      <td>3K</td>\n",
       "      <td>3K</td>\n",
       "      <td>['Adventure', 'Indie', 'Platform']</td>\n",
       "      <td>A 2D metroidvania with an emphasis on close co...</td>\n",
       "      <td>[\"this games worldbuilding is incredible, with...</td>\n",
       "      <td>21K</td>\n",
       "      <td>2.4K</td>\n",
       "      <td>8.3K</td>\n",
       "      <td>2.3K</td>\n",
       "    </tr>\n",
       "  </tbody>\n",
       "</table>\n",
       "</div>"
      ],
      "text/plain": [
       "                                      Title  Release Date  \\\n",
       "Id                                                          \n",
       "0                                Elden Ring  Feb 25, 2022   \n",
       "1                                     Hades  Dec 10, 2019   \n",
       "2   The Legend of Zelda: Breath of the Wild  Mar 03, 2017   \n",
       "3                                 Undertale  Sep 15, 2015   \n",
       "4                             Hollow Knight  Feb 24, 2017   \n",
       "\n",
       "                                                 Team  Rating Times Listed  \\\n",
       "Id                                                                           \n",
       "0      ['Bandai Namco Entertainment', 'FromSoftware']     4.5         3.9K   \n",
       "1                                ['Supergiant Games']     4.3         2.9K   \n",
       "2   ['Nintendo', 'Nintendo EPD Production Group No...     4.4         4.3K   \n",
       "3                                  ['tobyfox', '8-4']     4.2         3.5K   \n",
       "4                                     ['Team Cherry']     4.4           3K   \n",
       "\n",
       "   Number of Reviews                                             Genres  \\\n",
       "Id                                                                        \n",
       "0               3.9K                               ['Adventure', 'RPG']   \n",
       "1               2.9K           ['Adventure', 'Brawler', 'Indie', 'RPG']   \n",
       "2               4.3K                               ['Adventure', 'RPG']   \n",
       "3               3.5K  ['Adventure', 'Indie', 'RPG', 'Turn Based Stra...   \n",
       "4                 3K                 ['Adventure', 'Indie', 'Platform']   \n",
       "\n",
       "                                              Summary  \\\n",
       "Id                                                      \n",
       "0   Elden Ring is a fantasy, action and open world...   \n",
       "1   A rogue-lite hack and slash dungeon crawler in...   \n",
       "2   The Legend of Zelda: Breath of the Wild is the...   \n",
       "3   A small child falls into the Underground, wher...   \n",
       "4   A 2D metroidvania with an emphasis on close co...   \n",
       "\n",
       "                                              Reviews Plays Playing Backlogs  \\\n",
       "Id                                                                             \n",
       "0   [\"The first playthrough of elden ring is one o...   17K    3.8K     4.6K   \n",
       "1   ['convinced this is a roguelike for people who...   21K    3.2K     6.3K   \n",
       "2   ['This game is the game (that is not CS:GO) th...   30K    2.5K       5K   \n",
       "3   ['soundtrack is tied for #1 with nier automata...   28K     679     4.9K   \n",
       "4   [\"this games worldbuilding is incredible, with...   21K    2.4K     8.3K   \n",
       "\n",
       "   Wishlist  \n",
       "Id           \n",
       "0      4.8K  \n",
       "1      3.6K  \n",
       "2      2.6K  \n",
       "3      1.8K  \n",
       "4      2.3K  "
      ]
     },
     "execution_count": 38,
     "metadata": {},
     "output_type": "execute_result"
    }
   ],
   "source": [
    "datos = pd.read_csv(\"assets/data/games.csv\", index_col=\"Id\")\n",
    "datos.head(5) #muestra las primeras 5 lineas"
   ]
  },
  {
   "attachments": {},
   "cell_type": "markdown",
   "metadata": {},
   "source": [
    "<h4><b>DIMENSIÓN DEL DATASET</b></h4>"
   ]
  },
  {
   "cell_type": "code",
   "execution_count": 39,
   "metadata": {},
   "outputs": [
    {
     "name": "stdout",
     "output_type": "stream",
     "text": [
      "Cantidad de Filas y Columnas del data set: (1512, 13)\n"
     ]
    }
   ],
   "source": [
    "print(f'Cantidad de Filas y Columnas del data set: {datos.shape}')\n"
   ]
  },
  {
   "attachments": {},
   "cell_type": "markdown",
   "metadata": {},
   "source": [
    "<h4><b>MOSTRANDO INFORMACIÓN DEL DATASET</b></h4>"
   ]
  },
  {
   "cell_type": "code",
   "execution_count": 40,
   "metadata": {},
   "outputs": [
    {
     "name": "stdout",
     "output_type": "stream",
     "text": [
      "<class 'pandas.core.frame.DataFrame'>\n",
      "Index: 1512 entries, 0 to 1511\n",
      "Data columns (total 13 columns):\n",
      " #   Column             Non-Null Count  Dtype  \n",
      "---  ------             --------------  -----  \n",
      " 0   Title              1512 non-null   object \n",
      " 1   Release Date       1512 non-null   object \n",
      " 2   Team               1511 non-null   object \n",
      " 3   Rating             1499 non-null   float64\n",
      " 4   Times Listed       1512 non-null   object \n",
      " 5   Number of Reviews  1512 non-null   object \n",
      " 6   Genres             1512 non-null   object \n",
      " 7   Summary            1511 non-null   object \n",
      " 8   Reviews            1512 non-null   object \n",
      " 9   Plays              1512 non-null   object \n",
      " 10  Playing            1512 non-null   object \n",
      " 11  Backlogs           1512 non-null   object \n",
      " 12  Wishlist           1512 non-null   object \n",
      "dtypes: float64(1), object(12)\n",
      "memory usage: 165.4+ KB\n"
     ]
    }
   ],
   "source": [
    "datos.info()"
   ]
  },
  {
   "attachments": {},
   "cell_type": "markdown",
   "metadata": {},
   "source": [
    "<h4><b>MOSTRANDO LAS FILAS DE DATOS NULOS</b></h4>"
   ]
  },
  {
   "cell_type": "code",
   "execution_count": 41,
   "metadata": {},
   "outputs": [
    {
     "data": {
      "text/html": [
       "<div>\n",
       "<style scoped>\n",
       "    .dataframe tbody tr th:only-of-type {\n",
       "        vertical-align: middle;\n",
       "    }\n",
       "\n",
       "    .dataframe tbody tr th {\n",
       "        vertical-align: top;\n",
       "    }\n",
       "\n",
       "    .dataframe thead th {\n",
       "        text-align: right;\n",
       "    }\n",
       "</style>\n",
       "<table border=\"1\" class=\"dataframe\">\n",
       "  <thead>\n",
       "    <tr style=\"text-align: right;\">\n",
       "      <th></th>\n",
       "      <th>Title</th>\n",
       "      <th>Release Date</th>\n",
       "      <th>Team</th>\n",
       "      <th>Rating</th>\n",
       "      <th>Times Listed</th>\n",
       "      <th>Number of Reviews</th>\n",
       "      <th>Genres</th>\n",
       "      <th>Summary</th>\n",
       "      <th>Reviews</th>\n",
       "      <th>Plays</th>\n",
       "      <th>Playing</th>\n",
       "      <th>Backlogs</th>\n",
       "      <th>Wishlist</th>\n",
       "    </tr>\n",
       "    <tr>\n",
       "      <th>Id</th>\n",
       "      <th></th>\n",
       "      <th></th>\n",
       "      <th></th>\n",
       "      <th></th>\n",
       "      <th></th>\n",
       "      <th></th>\n",
       "      <th></th>\n",
       "      <th></th>\n",
       "      <th></th>\n",
       "      <th></th>\n",
       "      <th></th>\n",
       "      <th></th>\n",
       "      <th></th>\n",
       "    </tr>\n",
       "  </thead>\n",
       "  <tbody>\n",
       "    <tr>\n",
       "      <th>0</th>\n",
       "      <td>False</td>\n",
       "      <td>False</td>\n",
       "      <td>False</td>\n",
       "      <td>False</td>\n",
       "      <td>False</td>\n",
       "      <td>False</td>\n",
       "      <td>False</td>\n",
       "      <td>False</td>\n",
       "      <td>False</td>\n",
       "      <td>False</td>\n",
       "      <td>False</td>\n",
       "      <td>False</td>\n",
       "      <td>False</td>\n",
       "    </tr>\n",
       "    <tr>\n",
       "      <th>1</th>\n",
       "      <td>False</td>\n",
       "      <td>False</td>\n",
       "      <td>False</td>\n",
       "      <td>False</td>\n",
       "      <td>False</td>\n",
       "      <td>False</td>\n",
       "      <td>False</td>\n",
       "      <td>False</td>\n",
       "      <td>False</td>\n",
       "      <td>False</td>\n",
       "      <td>False</td>\n",
       "      <td>False</td>\n",
       "      <td>False</td>\n",
       "    </tr>\n",
       "    <tr>\n",
       "      <th>2</th>\n",
       "      <td>False</td>\n",
       "      <td>False</td>\n",
       "      <td>False</td>\n",
       "      <td>False</td>\n",
       "      <td>False</td>\n",
       "      <td>False</td>\n",
       "      <td>False</td>\n",
       "      <td>False</td>\n",
       "      <td>False</td>\n",
       "      <td>False</td>\n",
       "      <td>False</td>\n",
       "      <td>False</td>\n",
       "      <td>False</td>\n",
       "    </tr>\n",
       "    <tr>\n",
       "      <th>3</th>\n",
       "      <td>False</td>\n",
       "      <td>False</td>\n",
       "      <td>False</td>\n",
       "      <td>False</td>\n",
       "      <td>False</td>\n",
       "      <td>False</td>\n",
       "      <td>False</td>\n",
       "      <td>False</td>\n",
       "      <td>False</td>\n",
       "      <td>False</td>\n",
       "      <td>False</td>\n",
       "      <td>False</td>\n",
       "      <td>False</td>\n",
       "    </tr>\n",
       "    <tr>\n",
       "      <th>4</th>\n",
       "      <td>False</td>\n",
       "      <td>False</td>\n",
       "      <td>False</td>\n",
       "      <td>False</td>\n",
       "      <td>False</td>\n",
       "      <td>False</td>\n",
       "      <td>False</td>\n",
       "      <td>False</td>\n",
       "      <td>False</td>\n",
       "      <td>False</td>\n",
       "      <td>False</td>\n",
       "      <td>False</td>\n",
       "      <td>False</td>\n",
       "    </tr>\n",
       "    <tr>\n",
       "      <th>...</th>\n",
       "      <td>...</td>\n",
       "      <td>...</td>\n",
       "      <td>...</td>\n",
       "      <td>...</td>\n",
       "      <td>...</td>\n",
       "      <td>...</td>\n",
       "      <td>...</td>\n",
       "      <td>...</td>\n",
       "      <td>...</td>\n",
       "      <td>...</td>\n",
       "      <td>...</td>\n",
       "      <td>...</td>\n",
       "      <td>...</td>\n",
       "    </tr>\n",
       "    <tr>\n",
       "      <th>1507</th>\n",
       "      <td>False</td>\n",
       "      <td>False</td>\n",
       "      <td>False</td>\n",
       "      <td>False</td>\n",
       "      <td>False</td>\n",
       "      <td>False</td>\n",
       "      <td>False</td>\n",
       "      <td>False</td>\n",
       "      <td>False</td>\n",
       "      <td>False</td>\n",
       "      <td>False</td>\n",
       "      <td>False</td>\n",
       "      <td>False</td>\n",
       "    </tr>\n",
       "    <tr>\n",
       "      <th>1508</th>\n",
       "      <td>False</td>\n",
       "      <td>False</td>\n",
       "      <td>False</td>\n",
       "      <td>False</td>\n",
       "      <td>False</td>\n",
       "      <td>False</td>\n",
       "      <td>False</td>\n",
       "      <td>False</td>\n",
       "      <td>False</td>\n",
       "      <td>False</td>\n",
       "      <td>False</td>\n",
       "      <td>False</td>\n",
       "      <td>False</td>\n",
       "    </tr>\n",
       "    <tr>\n",
       "      <th>1509</th>\n",
       "      <td>False</td>\n",
       "      <td>False</td>\n",
       "      <td>False</td>\n",
       "      <td>False</td>\n",
       "      <td>False</td>\n",
       "      <td>False</td>\n",
       "      <td>False</td>\n",
       "      <td>False</td>\n",
       "      <td>False</td>\n",
       "      <td>False</td>\n",
       "      <td>False</td>\n",
       "      <td>False</td>\n",
       "      <td>False</td>\n",
       "    </tr>\n",
       "    <tr>\n",
       "      <th>1510</th>\n",
       "      <td>False</td>\n",
       "      <td>False</td>\n",
       "      <td>False</td>\n",
       "      <td>False</td>\n",
       "      <td>False</td>\n",
       "      <td>False</td>\n",
       "      <td>False</td>\n",
       "      <td>False</td>\n",
       "      <td>False</td>\n",
       "      <td>False</td>\n",
       "      <td>False</td>\n",
       "      <td>False</td>\n",
       "      <td>False</td>\n",
       "    </tr>\n",
       "    <tr>\n",
       "      <th>1511</th>\n",
       "      <td>False</td>\n",
       "      <td>False</td>\n",
       "      <td>False</td>\n",
       "      <td>False</td>\n",
       "      <td>False</td>\n",
       "      <td>False</td>\n",
       "      <td>False</td>\n",
       "      <td>False</td>\n",
       "      <td>False</td>\n",
       "      <td>False</td>\n",
       "      <td>False</td>\n",
       "      <td>False</td>\n",
       "      <td>False</td>\n",
       "    </tr>\n",
       "  </tbody>\n",
       "</table>\n",
       "<p>1512 rows × 13 columns</p>\n",
       "</div>"
      ],
      "text/plain": [
       "      Title  Release Date   Team  Rating  Times Listed  Number of Reviews  \\\n",
       "Id                                                                          \n",
       "0     False         False  False   False         False              False   \n",
       "1     False         False  False   False         False              False   \n",
       "2     False         False  False   False         False              False   \n",
       "3     False         False  False   False         False              False   \n",
       "4     False         False  False   False         False              False   \n",
       "...     ...           ...    ...     ...           ...                ...   \n",
       "1507  False         False  False   False         False              False   \n",
       "1508  False         False  False   False         False              False   \n",
       "1509  False         False  False   False         False              False   \n",
       "1510  False         False  False   False         False              False   \n",
       "1511  False         False  False   False         False              False   \n",
       "\n",
       "      Genres  Summary  Reviews  Plays  Playing  Backlogs  Wishlist  \n",
       "Id                                                                  \n",
       "0      False    False    False  False    False     False     False  \n",
       "1      False    False    False  False    False     False     False  \n",
       "2      False    False    False  False    False     False     False  \n",
       "3      False    False    False  False    False     False     False  \n",
       "4      False    False    False  False    False     False     False  \n",
       "...      ...      ...      ...    ...      ...       ...       ...  \n",
       "1507   False    False    False  False    False     False     False  \n",
       "1508   False    False    False  False    False     False     False  \n",
       "1509   False    False    False  False    False     False     False  \n",
       "1510   False    False    False  False    False     False     False  \n",
       "1511   False    False    False  False    False     False     False  \n",
       "\n",
       "[1512 rows x 13 columns]"
      ]
     },
     "execution_count": 41,
     "metadata": {},
     "output_type": "execute_result"
    }
   ],
   "source": [
    "datos.isnull()\n"
   ]
  },
  {
   "attachments": {},
   "cell_type": "markdown",
   "metadata": {},
   "source": [
    "<h4><b>IDENTIFICANDO LAS COLUMNAS CON DATOS NULOS</b></h4>"
   ]
  },
  {
   "cell_type": "code",
   "execution_count": 42,
   "metadata": {},
   "outputs": [
    {
     "data": {
      "text/plain": [
       "Title                False\n",
       "Release Date         False\n",
       "Team                  True\n",
       "Rating                True\n",
       "Times Listed         False\n",
       "Number of Reviews    False\n",
       "Genres               False\n",
       "Summary               True\n",
       "Reviews              False\n",
       "Plays                False\n",
       "Playing              False\n",
       "Backlogs             False\n",
       "Wishlist             False\n",
       "dtype: bool"
      ]
     },
     "execution_count": 42,
     "metadata": {},
     "output_type": "execute_result"
    }
   ],
   "source": [
    "#Es mas eficiente combinar estas dos funciones\n",
    "datos.isnull().any()"
   ]
  },
  {
   "attachments": {},
   "cell_type": "markdown",
   "metadata": {},
   "source": [
    "<h4><b>ELIMINANDO LOS DATOS NULOS DEL DATASET</b></h4>"
   ]
  },
  {
   "cell_type": "code",
   "execution_count": 43,
   "metadata": {},
   "outputs": [
    {
     "data": {
      "text/html": [
       "<div>\n",
       "<style scoped>\n",
       "    .dataframe tbody tr th:only-of-type {\n",
       "        vertical-align: middle;\n",
       "    }\n",
       "\n",
       "    .dataframe tbody tr th {\n",
       "        vertical-align: top;\n",
       "    }\n",
       "\n",
       "    .dataframe thead th {\n",
       "        text-align: right;\n",
       "    }\n",
       "</style>\n",
       "<table border=\"1\" class=\"dataframe\">\n",
       "  <thead>\n",
       "    <tr style=\"text-align: right;\">\n",
       "      <th></th>\n",
       "      <th>Title</th>\n",
       "      <th>Release Date</th>\n",
       "      <th>Team</th>\n",
       "      <th>Rating</th>\n",
       "      <th>Times Listed</th>\n",
       "      <th>Number of Reviews</th>\n",
       "      <th>Genres</th>\n",
       "      <th>Summary</th>\n",
       "      <th>Reviews</th>\n",
       "      <th>Plays</th>\n",
       "      <th>Playing</th>\n",
       "      <th>Backlogs</th>\n",
       "      <th>Wishlist</th>\n",
       "    </tr>\n",
       "    <tr>\n",
       "      <th>Id</th>\n",
       "      <th></th>\n",
       "      <th></th>\n",
       "      <th></th>\n",
       "      <th></th>\n",
       "      <th></th>\n",
       "      <th></th>\n",
       "      <th></th>\n",
       "      <th></th>\n",
       "      <th></th>\n",
       "      <th></th>\n",
       "      <th></th>\n",
       "      <th></th>\n",
       "      <th></th>\n",
       "    </tr>\n",
       "  </thead>\n",
       "  <tbody>\n",
       "    <tr>\n",
       "      <th>0</th>\n",
       "      <td>Elden Ring</td>\n",
       "      <td>Feb 25, 2022</td>\n",
       "      <td>['Bandai Namco Entertainment', 'FromSoftware']</td>\n",
       "      <td>4.5</td>\n",
       "      <td>3.9K</td>\n",
       "      <td>3.9K</td>\n",
       "      <td>['Adventure', 'RPG']</td>\n",
       "      <td>Elden Ring is a fantasy, action and open world...</td>\n",
       "      <td>[\"The first playthrough of elden ring is one o...</td>\n",
       "      <td>17K</td>\n",
       "      <td>3.8K</td>\n",
       "      <td>4.6K</td>\n",
       "      <td>4.8K</td>\n",
       "    </tr>\n",
       "    <tr>\n",
       "      <th>1</th>\n",
       "      <td>Hades</td>\n",
       "      <td>Dec 10, 2019</td>\n",
       "      <td>['Supergiant Games']</td>\n",
       "      <td>4.3</td>\n",
       "      <td>2.9K</td>\n",
       "      <td>2.9K</td>\n",
       "      <td>['Adventure', 'Brawler', 'Indie', 'RPG']</td>\n",
       "      <td>A rogue-lite hack and slash dungeon crawler in...</td>\n",
       "      <td>['convinced this is a roguelike for people who...</td>\n",
       "      <td>21K</td>\n",
       "      <td>3.2K</td>\n",
       "      <td>6.3K</td>\n",
       "      <td>3.6K</td>\n",
       "    </tr>\n",
       "    <tr>\n",
       "      <th>2</th>\n",
       "      <td>The Legend of Zelda: Breath of the Wild</td>\n",
       "      <td>Mar 03, 2017</td>\n",
       "      <td>['Nintendo', 'Nintendo EPD Production Group No...</td>\n",
       "      <td>4.4</td>\n",
       "      <td>4.3K</td>\n",
       "      <td>4.3K</td>\n",
       "      <td>['Adventure', 'RPG']</td>\n",
       "      <td>The Legend of Zelda: Breath of the Wild is the...</td>\n",
       "      <td>['This game is the game (that is not CS:GO) th...</td>\n",
       "      <td>30K</td>\n",
       "      <td>2.5K</td>\n",
       "      <td>5K</td>\n",
       "      <td>2.6K</td>\n",
       "    </tr>\n",
       "    <tr>\n",
       "      <th>3</th>\n",
       "      <td>Undertale</td>\n",
       "      <td>Sep 15, 2015</td>\n",
       "      <td>['tobyfox', '8-4']</td>\n",
       "      <td>4.2</td>\n",
       "      <td>3.5K</td>\n",
       "      <td>3.5K</td>\n",
       "      <td>['Adventure', 'Indie', 'RPG', 'Turn Based Stra...</td>\n",
       "      <td>A small child falls into the Underground, wher...</td>\n",
       "      <td>['soundtrack is tied for #1 with nier automata...</td>\n",
       "      <td>28K</td>\n",
       "      <td>679</td>\n",
       "      <td>4.9K</td>\n",
       "      <td>1.8K</td>\n",
       "    </tr>\n",
       "    <tr>\n",
       "      <th>4</th>\n",
       "      <td>Hollow Knight</td>\n",
       "      <td>Feb 24, 2017</td>\n",
       "      <td>['Team Cherry']</td>\n",
       "      <td>4.4</td>\n",
       "      <td>3K</td>\n",
       "      <td>3K</td>\n",
       "      <td>['Adventure', 'Indie', 'Platform']</td>\n",
       "      <td>A 2D metroidvania with an emphasis on close co...</td>\n",
       "      <td>[\"this games worldbuilding is incredible, with...</td>\n",
       "      <td>21K</td>\n",
       "      <td>2.4K</td>\n",
       "      <td>8.3K</td>\n",
       "      <td>2.3K</td>\n",
       "    </tr>\n",
       "    <tr>\n",
       "      <th>...</th>\n",
       "      <td>...</td>\n",
       "      <td>...</td>\n",
       "      <td>...</td>\n",
       "      <td>...</td>\n",
       "      <td>...</td>\n",
       "      <td>...</td>\n",
       "      <td>...</td>\n",
       "      <td>...</td>\n",
       "      <td>...</td>\n",
       "      <td>...</td>\n",
       "      <td>...</td>\n",
       "      <td>...</td>\n",
       "      <td>...</td>\n",
       "    </tr>\n",
       "    <tr>\n",
       "      <th>1507</th>\n",
       "      <td>Back to the Future: The Game</td>\n",
       "      <td>Dec 22, 2010</td>\n",
       "      <td>['Telltale Games']</td>\n",
       "      <td>3.2</td>\n",
       "      <td>94</td>\n",
       "      <td>94</td>\n",
       "      <td>['Adventure', 'Point-and-Click']</td>\n",
       "      <td>Back to the Future: The Game is one of Telltal...</td>\n",
       "      <td>['Very enjoyable game. The story adds onto the...</td>\n",
       "      <td>763</td>\n",
       "      <td>5</td>\n",
       "      <td>223</td>\n",
       "      <td>67</td>\n",
       "    </tr>\n",
       "    <tr>\n",
       "      <th>1508</th>\n",
       "      <td>Team Sonic Racing</td>\n",
       "      <td>May 21, 2019</td>\n",
       "      <td>['Sumo Digital', 'Sega']</td>\n",
       "      <td>2.9</td>\n",
       "      <td>264</td>\n",
       "      <td>264</td>\n",
       "      <td>['Arcade', 'Racing']</td>\n",
       "      <td>Team Sonic Racing combines the best elements o...</td>\n",
       "      <td>['jogo morto mas bom', 'not my cup of tea', \"C...</td>\n",
       "      <td>1.5K</td>\n",
       "      <td>49</td>\n",
       "      <td>413</td>\n",
       "      <td>107</td>\n",
       "    </tr>\n",
       "    <tr>\n",
       "      <th>1509</th>\n",
       "      <td>Dragon's Dogma</td>\n",
       "      <td>May 22, 2012</td>\n",
       "      <td>['Capcom']</td>\n",
       "      <td>3.7</td>\n",
       "      <td>210</td>\n",
       "      <td>210</td>\n",
       "      <td>['Brawler', 'RPG']</td>\n",
       "      <td>Set in a huge open world, Dragon’s Dogma: Dark...</td>\n",
       "      <td>['Underrated.', 'A grandes rasgos, es como un ...</td>\n",
       "      <td>1.1K</td>\n",
       "      <td>45</td>\n",
       "      <td>487</td>\n",
       "      <td>206</td>\n",
       "    </tr>\n",
       "    <tr>\n",
       "      <th>1510</th>\n",
       "      <td>Baldur's Gate 3</td>\n",
       "      <td>Oct 06, 2020</td>\n",
       "      <td>['Larian Studios']</td>\n",
       "      <td>4.1</td>\n",
       "      <td>165</td>\n",
       "      <td>165</td>\n",
       "      <td>['Adventure', 'RPG', 'Strategy', 'Tactical', '...</td>\n",
       "      <td>An ancient evil has returned to Baldur's Gate,...</td>\n",
       "      <td>['Bu türe bu oyunla girmeye çalışmak hataydı s...</td>\n",
       "      <td>269</td>\n",
       "      <td>79</td>\n",
       "      <td>388</td>\n",
       "      <td>602</td>\n",
       "    </tr>\n",
       "    <tr>\n",
       "      <th>1511</th>\n",
       "      <td>The LEGO Movie Videogame</td>\n",
       "      <td>Feb 04, 2014</td>\n",
       "      <td>['WB Games', 'TT Fusion']</td>\n",
       "      <td>2.8</td>\n",
       "      <td>184</td>\n",
       "      <td>184</td>\n",
       "      <td>['Adventure', 'Puzzle']</td>\n",
       "      <td>Join Emmet and an unlikely group of resistance...</td>\n",
       "      <td>['Legal', 'Pretty Average Lego Game But It Was...</td>\n",
       "      <td>1.7K</td>\n",
       "      <td>11</td>\n",
       "      <td>239</td>\n",
       "      <td>73</td>\n",
       "    </tr>\n",
       "  </tbody>\n",
       "</table>\n",
       "<p>1498 rows × 13 columns</p>\n",
       "</div>"
      ],
      "text/plain": [
       "                                        Title  Release Date  \\\n",
       "Id                                                            \n",
       "0                                  Elden Ring  Feb 25, 2022   \n",
       "1                                       Hades  Dec 10, 2019   \n",
       "2     The Legend of Zelda: Breath of the Wild  Mar 03, 2017   \n",
       "3                                   Undertale  Sep 15, 2015   \n",
       "4                               Hollow Knight  Feb 24, 2017   \n",
       "...                                       ...           ...   \n",
       "1507             Back to the Future: The Game  Dec 22, 2010   \n",
       "1508                        Team Sonic Racing  May 21, 2019   \n",
       "1509                           Dragon's Dogma  May 22, 2012   \n",
       "1510                          Baldur's Gate 3  Oct 06, 2020   \n",
       "1511                 The LEGO Movie Videogame  Feb 04, 2014   \n",
       "\n",
       "                                                   Team  Rating Times Listed  \\\n",
       "Id                                                                             \n",
       "0        ['Bandai Namco Entertainment', 'FromSoftware']     4.5         3.9K   \n",
       "1                                  ['Supergiant Games']     4.3         2.9K   \n",
       "2     ['Nintendo', 'Nintendo EPD Production Group No...     4.4         4.3K   \n",
       "3                                    ['tobyfox', '8-4']     4.2         3.5K   \n",
       "4                                       ['Team Cherry']     4.4           3K   \n",
       "...                                                 ...     ...          ...   \n",
       "1507                                 ['Telltale Games']     3.2           94   \n",
       "1508                           ['Sumo Digital', 'Sega']     2.9          264   \n",
       "1509                                         ['Capcom']     3.7          210   \n",
       "1510                                 ['Larian Studios']     4.1          165   \n",
       "1511                          ['WB Games', 'TT Fusion']     2.8          184   \n",
       "\n",
       "     Number of Reviews                                             Genres  \\\n",
       "Id                                                                          \n",
       "0                 3.9K                               ['Adventure', 'RPG']   \n",
       "1                 2.9K           ['Adventure', 'Brawler', 'Indie', 'RPG']   \n",
       "2                 4.3K                               ['Adventure', 'RPG']   \n",
       "3                 3.5K  ['Adventure', 'Indie', 'RPG', 'Turn Based Stra...   \n",
       "4                   3K                 ['Adventure', 'Indie', 'Platform']   \n",
       "...                ...                                                ...   \n",
       "1507                94                   ['Adventure', 'Point-and-Click']   \n",
       "1508               264                               ['Arcade', 'Racing']   \n",
       "1509               210                                 ['Brawler', 'RPG']   \n",
       "1510               165  ['Adventure', 'RPG', 'Strategy', 'Tactical', '...   \n",
       "1511               184                            ['Adventure', 'Puzzle']   \n",
       "\n",
       "                                                Summary  \\\n",
       "Id                                                        \n",
       "0     Elden Ring is a fantasy, action and open world...   \n",
       "1     A rogue-lite hack and slash dungeon crawler in...   \n",
       "2     The Legend of Zelda: Breath of the Wild is the...   \n",
       "3     A small child falls into the Underground, wher...   \n",
       "4     A 2D metroidvania with an emphasis on close co...   \n",
       "...                                                 ...   \n",
       "1507  Back to the Future: The Game is one of Telltal...   \n",
       "1508  Team Sonic Racing combines the best elements o...   \n",
       "1509  Set in a huge open world, Dragon’s Dogma: Dark...   \n",
       "1510  An ancient evil has returned to Baldur's Gate,...   \n",
       "1511  Join Emmet and an unlikely group of resistance...   \n",
       "\n",
       "                                                Reviews Plays Playing  \\\n",
       "Id                                                                      \n",
       "0     [\"The first playthrough of elden ring is one o...   17K    3.8K   \n",
       "1     ['convinced this is a roguelike for people who...   21K    3.2K   \n",
       "2     ['This game is the game (that is not CS:GO) th...   30K    2.5K   \n",
       "3     ['soundtrack is tied for #1 with nier automata...   28K     679   \n",
       "4     [\"this games worldbuilding is incredible, with...   21K    2.4K   \n",
       "...                                                 ...   ...     ...   \n",
       "1507  ['Very enjoyable game. The story adds onto the...   763       5   \n",
       "1508  ['jogo morto mas bom', 'not my cup of tea', \"C...  1.5K      49   \n",
       "1509  ['Underrated.', 'A grandes rasgos, es como un ...  1.1K      45   \n",
       "1510  ['Bu türe bu oyunla girmeye çalışmak hataydı s...   269      79   \n",
       "1511  ['Legal', 'Pretty Average Lego Game But It Was...  1.7K      11   \n",
       "\n",
       "     Backlogs Wishlist  \n",
       "Id                      \n",
       "0        4.6K     4.8K  \n",
       "1        6.3K     3.6K  \n",
       "2          5K     2.6K  \n",
       "3        4.9K     1.8K  \n",
       "4        8.3K     2.3K  \n",
       "...       ...      ...  \n",
       "1507      223       67  \n",
       "1508      413      107  \n",
       "1509      487      206  \n",
       "1510      388      602  \n",
       "1511      239       73  \n",
       "\n",
       "[1498 rows x 13 columns]"
      ]
     },
     "execution_count": 43,
     "metadata": {},
     "output_type": "execute_result"
    }
   ],
   "source": [
    "data_sin_nulos = datos.dropna()\n",
    "data_sin_nulos"
   ]
  },
  {
   "attachments": {},
   "cell_type": "markdown",
   "metadata": {},
   "source": [
    "<h4><b>FUNCIÓN PARA VERIFICAR SI EL GENERO RPG ESTÁ PRESENTE EN LA LISTA</b></h4>"
   ]
  },
  {
   "cell_type": "code",
   "execution_count": 44,
   "metadata": {},
   "outputs": [
    {
     "data": {
      "text/html": [
       "<div>\n",
       "<style scoped>\n",
       "    .dataframe tbody tr th:only-of-type {\n",
       "        vertical-align: middle;\n",
       "    }\n",
       "\n",
       "    .dataframe tbody tr th {\n",
       "        vertical-align: top;\n",
       "    }\n",
       "\n",
       "    .dataframe thead th {\n",
       "        text-align: right;\n",
       "    }\n",
       "</style>\n",
       "<table border=\"1\" class=\"dataframe\">\n",
       "  <thead>\n",
       "    <tr style=\"text-align: right;\">\n",
       "      <th></th>\n",
       "      <th>Title</th>\n",
       "      <th>Rating</th>\n",
       "    </tr>\n",
       "    <tr>\n",
       "      <th>Id</th>\n",
       "      <th></th>\n",
       "      <th></th>\n",
       "    </tr>\n",
       "  </thead>\n",
       "  <tbody>\n",
       "    <tr>\n",
       "      <th>0</th>\n",
       "      <td>Elden Ring</td>\n",
       "      <td>4.5</td>\n",
       "    </tr>\n",
       "    <tr>\n",
       "      <th>1</th>\n",
       "      <td>Hades</td>\n",
       "      <td>4.3</td>\n",
       "    </tr>\n",
       "    <tr>\n",
       "      <th>2</th>\n",
       "      <td>The Legend of Zelda: Breath of the Wild</td>\n",
       "      <td>4.4</td>\n",
       "    </tr>\n",
       "    <tr>\n",
       "      <th>3</th>\n",
       "      <td>Undertale</td>\n",
       "      <td>4.2</td>\n",
       "    </tr>\n",
       "    <tr>\n",
       "      <th>6</th>\n",
       "      <td>Omori</td>\n",
       "      <td>4.2</td>\n",
       "    </tr>\n",
       "    <tr>\n",
       "      <th>9</th>\n",
       "      <td>NieR: Automata</td>\n",
       "      <td>4.3</td>\n",
       "    </tr>\n",
       "    <tr>\n",
       "      <th>10</th>\n",
       "      <td>Persona 5 Royal</td>\n",
       "      <td>4.4</td>\n",
       "    </tr>\n",
       "    <tr>\n",
       "      <th>12</th>\n",
       "      <td>God of War</td>\n",
       "      <td>4.2</td>\n",
       "    </tr>\n",
       "    <tr>\n",
       "      <th>14</th>\n",
       "      <td>Bloodborne</td>\n",
       "      <td>4.5</td>\n",
       "    </tr>\n",
       "    <tr>\n",
       "      <th>16</th>\n",
       "      <td>Yakuza 0</td>\n",
       "      <td>4.4</td>\n",
       "    </tr>\n",
       "  </tbody>\n",
       "</table>\n",
       "</div>"
      ],
      "text/plain": [
       "                                      Title  Rating\n",
       "Id                                                 \n",
       "0                                Elden Ring     4.5\n",
       "1                                     Hades     4.3\n",
       "2   The Legend of Zelda: Breath of the Wild     4.4\n",
       "3                                 Undertale     4.2\n",
       "6                                     Omori     4.2\n",
       "9                            NieR: Automata     4.3\n",
       "10                          Persona 5 Royal     4.4\n",
       "12                               God of War     4.2\n",
       "14                               Bloodborne     4.5\n",
       "16                                 Yakuza 0     4.4"
      ]
     },
     "execution_count": 44,
     "metadata": {},
     "output_type": "execute_result"
    }
   ],
   "source": [
    "def rpg(genres):\n",
    "    return 'RPG' in genres\n",
    "\n",
    "#Aplica el filtro utilizando apply\n",
    "datosRPG = data_sin_nulos[data_sin_nulos['Genres'].apply(rpg)]\n",
    "\n",
    "#Muestra el dataset solamente incluyendo la columnas Titulo y Ranking\n",
    "nombresRPG = datosRPG[['Title', 'Rating']]\n",
    "nombresRPG.head(10)\n"
   ]
  },
  {
   "attachments": {},
   "cell_type": "markdown",
   "metadata": {},
   "source": [
    "<h4><b>INFORMACIÓN DEL DATASET YA FILTRADO</b></h4>"
   ]
  },
  {
   "cell_type": "code",
   "execution_count": 45,
   "metadata": {},
   "outputs": [
    {
     "name": "stdout",
     "output_type": "stream",
     "text": [
      "<class 'pandas.core.frame.DataFrame'>\n",
      "Index: 516 entries, 0 to 1510\n",
      "Data columns (total 2 columns):\n",
      " #   Column  Non-Null Count  Dtype  \n",
      "---  ------  --------------  -----  \n",
      " 0   Title   516 non-null    object \n",
      " 1   Rating  516 non-null    float64\n",
      "dtypes: float64(1), object(1)\n",
      "memory usage: 12.1+ KB\n"
     ]
    }
   ],
   "source": [
    "nombresRPG.info()"
   ]
  },
  {
   "attachments": {},
   "cell_type": "markdown",
   "metadata": {},
   "source": [
    "<h4><b>IDENTIFICANDO SI EXISTEN DATOS NULOS EN EL NUEVO DATASET</b></h4>"
   ]
  },
  {
   "cell_type": "code",
   "execution_count": 46,
   "metadata": {},
   "outputs": [
    {
     "data": {
      "text/html": [
       "<div>\n",
       "<style scoped>\n",
       "    .dataframe tbody tr th:only-of-type {\n",
       "        vertical-align: middle;\n",
       "    }\n",
       "\n",
       "    .dataframe tbody tr th {\n",
       "        vertical-align: top;\n",
       "    }\n",
       "\n",
       "    .dataframe thead th {\n",
       "        text-align: right;\n",
       "    }\n",
       "</style>\n",
       "<table border=\"1\" class=\"dataframe\">\n",
       "  <thead>\n",
       "    <tr style=\"text-align: right;\">\n",
       "      <th></th>\n",
       "      <th>Title</th>\n",
       "      <th>Rating</th>\n",
       "    </tr>\n",
       "    <tr>\n",
       "      <th>Id</th>\n",
       "      <th></th>\n",
       "      <th></th>\n",
       "    </tr>\n",
       "  </thead>\n",
       "  <tbody>\n",
       "    <tr>\n",
       "      <th>0</th>\n",
       "      <td>False</td>\n",
       "      <td>False</td>\n",
       "    </tr>\n",
       "    <tr>\n",
       "      <th>1</th>\n",
       "      <td>False</td>\n",
       "      <td>False</td>\n",
       "    </tr>\n",
       "    <tr>\n",
       "      <th>2</th>\n",
       "      <td>False</td>\n",
       "      <td>False</td>\n",
       "    </tr>\n",
       "    <tr>\n",
       "      <th>3</th>\n",
       "      <td>False</td>\n",
       "      <td>False</td>\n",
       "    </tr>\n",
       "    <tr>\n",
       "      <th>6</th>\n",
       "      <td>False</td>\n",
       "      <td>False</td>\n",
       "    </tr>\n",
       "    <tr>\n",
       "      <th>...</th>\n",
       "      <td>...</td>\n",
       "      <td>...</td>\n",
       "    </tr>\n",
       "    <tr>\n",
       "      <th>1487</th>\n",
       "      <td>False</td>\n",
       "      <td>False</td>\n",
       "    </tr>\n",
       "    <tr>\n",
       "      <th>1489</th>\n",
       "      <td>False</td>\n",
       "      <td>False</td>\n",
       "    </tr>\n",
       "    <tr>\n",
       "      <th>1500</th>\n",
       "      <td>False</td>\n",
       "      <td>False</td>\n",
       "    </tr>\n",
       "    <tr>\n",
       "      <th>1509</th>\n",
       "      <td>False</td>\n",
       "      <td>False</td>\n",
       "    </tr>\n",
       "    <tr>\n",
       "      <th>1510</th>\n",
       "      <td>False</td>\n",
       "      <td>False</td>\n",
       "    </tr>\n",
       "  </tbody>\n",
       "</table>\n",
       "<p>516 rows × 2 columns</p>\n",
       "</div>"
      ],
      "text/plain": [
       "      Title  Rating\n",
       "Id                 \n",
       "0     False   False\n",
       "1     False   False\n",
       "2     False   False\n",
       "3     False   False\n",
       "6     False   False\n",
       "...     ...     ...\n",
       "1487  False   False\n",
       "1489  False   False\n",
       "1500  False   False\n",
       "1509  False   False\n",
       "1510  False   False\n",
       "\n",
       "[516 rows x 2 columns]"
      ]
     },
     "execution_count": 46,
     "metadata": {},
     "output_type": "execute_result"
    }
   ],
   "source": [
    "nombresRPG.isnull()"
   ]
  },
  {
   "attachments": {},
   "cell_type": "markdown",
   "metadata": {},
   "source": [
    "<h4><b>MOSTRANDO LOS PRIMEROS 10 VIDEOJUEGOS RPG Y SU RATING DE POPULARIDAD</b></h4>"
   ]
  },
  {
   "cell_type": "code",
   "execution_count": 47,
   "metadata": {},
   "outputs": [
    {
     "data": {
      "text/plain": [
       "<Axes: xlabel='Id'>"
      ]
     },
     "execution_count": 47,
     "metadata": {},
     "output_type": "execute_result"
    },
    {
     "data": {
      "image/png": "[encoded data removed]",
      "text/plain": [
       "<Figure size 640x480 with 1 Axes>"
      ]
     },
     "metadata": {},
     "output_type": "display_data"
    }
   ],
   "source": [
    "datasetRPG = nombresRPG.head(10)\n",
    "datasetRPG.drop(['Title'],axis=1)['Rating'].plot(kind='bar') #No es optimo a menos que se solicite"
   ]
  },
  {
   "attachments": {},
   "cell_type": "markdown",
   "metadata": {},
   "source": [
    "<h4><b>MOSTRANDO LOS PRIMEROS 30 VIDEOJUEGOS RATING CON SU TITULO CORRESPONDIENTE</b></h4>"
   ]
  },
  {
   "cell_type": "code",
   "execution_count": 48,
   "metadata": {},
   "outputs": [
    {
     "data": {
      "text/plain": [
       "<Axes: xlabel='Title'>"
      ]
     },
     "execution_count": 48,
     "metadata": {},
     "output_type": "execute_result"
    },
    {
     "data": {
      "image/png": "[encoded data removed]",
      "text/plain": [
       "<Figure size 640x480 with 1 Axes>"
      ]
     },
     "metadata": {},
     "output_type": "display_data"
    }
   ],
   "source": [
    "datasetRPG = nombresRPG.head(10) #Es la cantidad de informacion que tendra el dataframe\n",
    "datasetRPG.set_index('Title', inplace=True)  # Establecer la columna 'Title' como índice\n",
    "datasetRPG['Rating'].plot(x=None, kind='bar')  # Utilizar el índice en el eje x\n"
   ]
  },
  {
   "cell_type": "code",
   "execution_count": 49,
   "metadata": {},
   "outputs": [
    {
     "data": {
      "image/png": "[encoded data removed]",
      "text/plain": [
       "<Figure size 640x480 with 1 Axes>"
      ]
     },
     "metadata": {},
     "output_type": "display_data"
    }
   ],
   "source": [
    "datasetRPG = nombresRPG.head(20)\n",
    "datasetRPG.set_index('Title', inplace=True)\n",
    "\n",
    "ax = datasetRPG['Rating'].plot(x=None, kind='bar')\n",
    "\n",
    "#Agregando etiquetas de rating en las barras\n",
    "for i, rating in enumerate(datasetRPG['Rating']):\n",
    "    ax.annotate(str(rating), xy=(i, rating), ha='center', va='bottom') #Anotate es para agregar un string con un valor\n",
    "\n",
    "plt.show()\n"
   ]
  },
  {
   "attachments": {},
   "cell_type": "markdown",
   "metadata": {},
   "source": [
    "<h4><b>PROMEDIO RATING VIDEOJUEGOS RPG</b></h4>"
   ]
  },
  {
   "cell_type": "code",
   "execution_count": 50,
   "metadata": {},
   "outputs": [
    {
     "data": {
      "text/plain": [
       "3.8325581395348833"
      ]
     },
     "execution_count": 50,
     "metadata": {},
     "output_type": "execute_result"
    }
   ],
   "source": [
    "# La funcion lambda se aplica a cada elemento de la columna Genres\n",
    "# Esta es la funcion que comprueba si la cadena de \"RPG \" esta presente en el valor de cada fila (Resultado entregado en booleano)\n",
    "ratings_RPG = data_sin_nulos[data_sin_nulos['Genres'].apply(lambda x: 'RPG' in x)]['Rating']\n",
    "promedio_RPG = ratings_RPG.mean()\n",
    "\n",
    "promedio_RPG\n"
   ]
  },
  {
   "attachments": {},
   "cell_type": "markdown",
   "metadata": {},
   "source": [
    "<h4><b>PROMEDIO RATING VIDEOJUEGOS INDIE</b></h4>"
   ]
  },
  {
   "cell_type": "code",
   "execution_count": 51,
   "metadata": {},
   "outputs": [
    {
     "data": {
      "text/plain": [
       "3.7031802120141344"
      ]
     },
     "execution_count": 51,
     "metadata": {},
     "output_type": "execute_result"
    }
   ],
   "source": [
    "ratings_Indie = data_sin_nulos[data_sin_nulos['Genres'].apply(lambda x: 'Indie' in x)]['Rating']\n",
    "promedio_Indie = ratings_Indie.mean()\n",
    "\n",
    "promedio_Indie\n"
   ]
  },
  {
   "cell_type": "code",
   "execution_count": 52,
   "metadata": {},
   "outputs": [
    {
     "data": {
      "text/plain": [
       "3.6981762917933123"
      ]
     },
     "execution_count": 52,
     "metadata": {},
     "output_type": "execute_result"
    }
   ],
   "source": [
    "rating_platform = data_sin_nulos[data_sin_nulos['Genres'].apply(lambda x:'Platform' in x)]['Rating']\n",
    "promedio_platform = rating_platform.mean()\n",
    "promedio_platform"
   ]
  },
  {
   "cell_type": "code",
   "execution_count": 53,
   "metadata": {},
   "outputs": [
    {
     "data": {
      "text/plain": [
       "3.776266137040715"
      ]
     },
     "execution_count": 53,
     "metadata": {},
     "output_type": "execute_result"
    }
   ],
   "source": [
    "rating_adventure = data_sin_nulos[data_sin_nulos['Genres'].apply(lambda x:'Adventure' in x)]['Rating']\n",
    "promedio_adventure = rating_adventure.mean()\n",
    "promedio_adventure"
   ]
  },
  {
   "cell_type": "code",
   "execution_count": 54,
   "metadata": {},
   "outputs": [],
   "source": [
    "# La funcion de dataframe crea un nuevo DataFrame vacio o a partir de datos existentes\n",
    "# Recibe un diccionario, especificando las etiquetas de las columnas (claves) y sus valores respectivos.\n",
    "dataset_promedios = pd.DataFrame({'Género': ['RPG', 'Indie', 'Platform', 'Adventure'], 'Promedio': [promedio_RPG, promedio_Indie, promedio_platform, promedio_adventure]})"
   ]
  },
  {
   "cell_type": "code",
   "execution_count": 55,
   "metadata": {},
   "outputs": [
    {
     "data": {
      "image/png": "[encoded data removed]",
      "text/plain": [
       "<Figure size 640x480 with 1 Axes>"
      ]
     },
     "metadata": {},
     "output_type": "display_data"
    }
   ],
   "source": [
    "# plt.pie crea graficos circulares\n",
    "# autopct: es una cadena de formato que especifica como se mostraran los porcentajes en el grafico circular.\n",
    "plt.pie(dataset_promedios['Promedio'], labels=dataset_promedios['Género'], autopct='%1.1f%%')\n",
    "plt.title('Promedio de Rating por Género')\n",
    "plt.show()\n"
   ]
  },
  {
   "cell_type": "code",
   "execution_count": 56,
   "metadata": {},
   "outputs": [
    {
     "data": {
      "text/plain": [
       "Id\n",
       "0       4.5\n",
       "1       4.3\n",
       "2       4.4\n",
       "3       4.2\n",
       "4       4.4\n",
       "       ... \n",
       "1507    3.2\n",
       "1508    2.9\n",
       "1509    3.7\n",
       "1510    4.1\n",
       "1511    2.8\n",
       "Name: Rating, Length: 1512, dtype: float64"
      ]
     },
     "execution_count": 56,
     "metadata": {},
     "output_type": "execute_result"
    }
   ],
   "source": [
    "datos_sin_nulos_2 = datos['Rating'].fillna(0)\n",
    "datos_sin_nulos_2"
   ]
  },
  {
   "cell_type": "code",
   "execution_count": 57,
   "metadata": {},
   "outputs": [
    {
     "data": {
      "text/plain": [
       "False"
      ]
     },
     "execution_count": 57,
     "metadata": {},
     "output_type": "execute_result"
    }
   ],
   "source": [
    "datos_sin_nulos_2.isnull().any()"
   ]
  },
  {
   "cell_type": "code",
   "execution_count": 58,
   "metadata": {},
   "outputs": [
    {
     "data": {
      "text/plain": [
       "Id\n",
       "1160    0.0\n",
       "649     0.0\n",
       "587     0.0\n",
       "1349    0.0\n",
       "1341    0.0\n",
       "       ... \n",
       "1286    4.6\n",
       "252     4.6\n",
       "43      4.6\n",
       "1322    4.6\n",
       "1252    4.8\n",
       "Name: Rating, Length: 1512, dtype: float64"
      ]
     },
     "execution_count": 58,
     "metadata": {},
     "output_type": "execute_result"
    }
   ],
   "source": [
    "videojuegos = datos_sin_nulos_2.sort_values(axis=0)\n",
    "videojuegos"
   ]
  },
  {
   "cell_type": "code",
   "execution_count": 59,
   "metadata": {},
   "outputs": [],
   "source": [
    "videojuegos.to_csv('assets/data/Sin_nulos.csv')"
   ]
  }
 ],
 "metadata": {
  "kernelspec": {
   "display_name": "Python 3",
   "language": "python",
   "name": "python3"
  },
  "language_info": {
   "codemirror_mode": {
    "name": "ipython",
    "version": 3
   },
   "file_extension": ".py",
   "mimetype": "text/x-python",
   "name": "python",
   "nbconvert_exporter": "python",
   "pygments_lexer": "ipython3",
   "version": "3.11.3"
  },
  "orig_nbformat": 4
 },
 "nbformat": 4,
 "nbformat_minor": 2
}
